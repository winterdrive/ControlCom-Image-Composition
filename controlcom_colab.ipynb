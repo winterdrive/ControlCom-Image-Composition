{
  "cells": [
    {
      "cell_type": "code",
      "source": [
        "from psutil import virtual_memory\n",
        "ram_gb = virtual_memory().total / 1e9\n",
        "print('Your runtime has {:.1f} gigabytes of available RAM\\n'.format(ram_gb))\n",
        "if ram_gb < 20:\n",
        "  print('To enable a high-RAM runtime, select the Runtime > \"Change runtime type\"')\n",
        "  print('menu, and then select High-RAM in the Runtime shape dropdown. Then, ')\n",
        "  print('re-execute this cell.')"
      ],
      "metadata": {
        "colab": {
          "base_uri": "https://localhost:8080/"
        },
        "id": "_g3CpjTFa2Ul",
        "outputId": "de8eeabb-597f-4040-883b-fb41c104a99f"
      },
      "execution_count": null,
      "outputs": [
        {
          "output_type": "stream",
          "name": "stdout",
          "text": [
            "Your runtime has 56.9 gigabytes of available RAM\n",
            "\n"
          ]
        }
      ]
    },
    {
      "cell_type": "code",
      "execution_count": null,
      "metadata": {
        "colab": {
          "base_uri": "https://localhost:8080/"
        },
        "id": "nDMyykUcb77U",
        "outputId": "50a3c142-b765-46b8-c864-c088fcddcaa4"
      },
      "outputs": [
        {
          "output_type": "stream",
          "name": "stdout",
          "text": [
            "/content\n",
            "Cloning into 'ControlCom-Image-Composition'...\n",
            "remote: Enumerating objects: 365, done.\u001b[K\n",
            "remote: Counting objects: 100% (365/365), done.\u001b[K\n",
            "remote: Compressing objects: 100% (300/300), done.\u001b[K\n",
            "remote: Total 365 (delta 78), reused 281 (delta 39), pack-reused 0\u001b[K\n",
            "Receiving objects: 100% (365/365), 27.21 MiB | 15.31 MiB/s, done.\n",
            "Resolving deltas: 100% (78/78), done.\n"
          ]
        }
      ],
      "source": [
        "%cd /content/\n",
        "!git clone https://github.com/winterdrive/ControlCom-Image-Composition.git"
      ]
    },
    {
      "cell_type": "code",
      "source": [
        "%cd /content/ControlCom-Image-Composition\n",
        "!git pull https://github.com/winterdrive/ControlCom-Image-Composition.git"
      ],
      "metadata": {
        "colab": {
          "base_uri": "https://localhost:8080/"
        },
        "id": "4eeIeNU3xqaN",
        "outputId": "2ae2424e-ed66-4fa8-d2b8-7ff33853c101"
      },
      "execution_count": null,
      "outputs": [
        {
          "output_type": "stream",
          "name": "stdout",
          "text": [
            "/content/ControlCom-Image-Composition\n",
            "remote: Enumerating objects: 5, done.\u001b[K\n",
            "remote: Counting objects: 100% (5/5), done.\u001b[K\n",
            "remote: Compressing objects: 100% (3/3), done.\u001b[K\n",
            "remote: Total 5 (delta 2), reused 5 (delta 2), pack-reused 0\u001b[K\n",
            "Unpacking objects: 100% (5/5), 610 bytes | 610.00 KiB/s, done.\n",
            "From https://github.com/winterdrive/ControlCom-Image-Composition\n",
            " * branch            HEAD       -> FETCH_HEAD\n",
            "Updating efcba45..8e76ac3\n",
            "Fast-forward\n",
            " examples_512/foreground/LISA_Teacher_512.jpg                              | Bin \u001b[31m806719\u001b[m -> \u001b[32m0\u001b[m bytes\n",
            " examples_512/foreground/LISA_Teacher_512.png                              | Bin \u001b[31m0\u001b[m -> \u001b[32m3178127\u001b[m bytes\n",
            " examples_512/foreground/between_two_ferns_cocacola_512.jpg                | Bin \u001b[31m54181\u001b[m -> \u001b[32m0\u001b[m bytes\n",
            " examples_512/foreground/between_two_ferns_cocacola_512.png                | Bin \u001b[31m0\u001b[m -> \u001b[32m254003\u001b[m bytes\n",
            " examples_512/foreground/between_two_ferns_tea_512.jpg                     | Bin \u001b[31m23383\u001b[m -> \u001b[32m0\u001b[m bytes\n",
            " examples_512/foreground/between_two_ferns_tea_512.png                     | Bin \u001b[31m0\u001b[m -> \u001b[32m123256\u001b[m bytes\n",
            " examples_512/foreground/kitchen_cola_512.jpg                              | Bin \u001b[31m54181\u001b[m -> \u001b[32m0\u001b[m bytes\n",
            " examples_512/foreground/kitchen_cola_512.png                              | Bin \u001b[31m0\u001b[m -> \u001b[32m254003\u001b[m bytes\n",
            " .../foreground_mask/{kitchen_cola_512.jpg => kitchen_cola_512.png}        | Bin\n",
            " 9 files changed, 0 insertions(+), 0 deletions(-)\n",
            " delete mode 100644 examples_512/foreground/LISA_Teacher_512.jpg\n",
            " create mode 100644 examples_512/foreground/LISA_Teacher_512.png\n",
            " delete mode 100644 examples_512/foreground/between_two_ferns_cocacola_512.jpg\n",
            " create mode 100644 examples_512/foreground/between_two_ferns_cocacola_512.png\n",
            " delete mode 100644 examples_512/foreground/between_two_ferns_tea_512.jpg\n",
            " create mode 100644 examples_512/foreground/between_two_ferns_tea_512.png\n",
            " delete mode 100644 examples_512/foreground/kitchen_cola_512.jpg\n",
            " create mode 100644 examples_512/foreground/kitchen_cola_512.png\n",
            " rename examples_512/foreground_mask/{kitchen_cola_512.jpg => kitchen_cola_512.png} (100%)\n"
          ]
        }
      ]
    },
    {
      "cell_type": "code",
      "execution_count": null,
      "metadata": {
        "colab": {
          "base_uri": "https://localhost:8080/"
        },
        "id": "8KeOvZcRcbyD",
        "outputId": "3e48029d-2c3f-43f7-fce9-fb893054e988"
      },
      "outputs": [
        {
          "output_type": "stream",
          "name": "stdout",
          "text": [
            "/content/ControlCom-Image-Composition/checkpoints\n",
            "--2024-07-09 07:26:07--  https://huggingface.co/BCMIZB/Libcom_pretrained_models/resolve/main/openai-clip-vit-large-patch14.zip\n",
            "Resolving huggingface.co (huggingface.co)... 13.33.30.76, 13.33.30.23, 13.33.30.114, ...\n",
            "Connecting to huggingface.co (huggingface.co)|13.33.30.76|:443... connected.\n",
            "HTTP request sent, awaiting response... 302 Found\n",
            "Location: https://cdn-lfs-us-1.huggingface.co/repos/8e/20/8e20bec10f5b5ba223fc2ef07bf74693b2aab7978adb71717bbfc22bedfb0c6f/5b8ea2badb1b183e09dbe2eb9a01a012c5c743050a33a766453016fd2bf0a0b1?response-content-disposition=inline%3B+filename*%3DUTF-8%27%27openai-clip-vit-large-patch14.zip%3B+filename%3D%22openai-clip-vit-large-patch14.zip%22%3B&response-content-type=application%2Fzip&Expires=1720769167&Policy=eyJTdGF0ZW1lbnQiOlt7IkNvbmRpdGlvbiI6eyJEYXRlTGVzc1RoYW4iOnsiQVdTOkVwb2NoVGltZSI6MTcyMDc2OTE2N319LCJSZXNvdXJjZSI6Imh0dHBzOi8vY2RuLWxmcy11cy0xLmh1Z2dpbmdmYWNlLmNvL3JlcG9zLzhlLzIwLzhlMjBiZWMxMGY1YjViYTIyM2ZjMmVmMDdiZjc0NjkzYjJhYWI3OTc4YWRiNzE3MTdiYmZjMjJiZWRmYjBjNmYvNWI4ZWEyYmFkYjFiMTgzZTA5ZGJlMmViOWEwMWEwMTJjNWM3NDMwNTBhMzNhNzY2NDUzMDE2ZmQyYmYwYTBiMT9yZXNwb25zZS1jb250ZW50LWRpc3Bvc2l0aW9uPSomcmVzcG9uc2UtY29udGVudC10eXBlPSoifV19&Signature=bSAhJXb%7EuN3COb3I5p4b8uShFjtaFt45siRCk5WFnlJbPuga95Wlb1nZEUB2tXtupyZX5uRiij6CiNZ0bTyG0bYe9rmn52ptNmGv7hAr4h6dTJzC9%7EvSchL0CMe2lqoIcu8i99bykfaeFnOYhosXBM5msdVP5g2rRqlNZm-rkLZ0gzpfRr%7ErI8ojJ-prk%7E8uhTKoy0gXcIV%7EBNOAIZIWkJCPjdd7AMwXi7-9CAx8JcnLCxRVAfjPgg1s4znTGBDBtpASNcepZR9R4dqvJhPzJv3OIHd8xjA30uxb7LX%7EK-KPG-65sX84AstK-x6unvI0j2Of%7Eu2MqAwDjN3cQ2UORw__&Key-Pair-Id=K24J24Z295AEI9 [following]\n",
            "--2024-07-09 07:26:07--  https://cdn-lfs-us-1.huggingface.co/repos/8e/20/8e20bec10f5b5ba223fc2ef07bf74693b2aab7978adb71717bbfc22bedfb0c6f/5b8ea2badb1b183e09dbe2eb9a01a012c5c743050a33a766453016fd2bf0a0b1?response-content-disposition=inline%3B+filename*%3DUTF-8%27%27openai-clip-vit-large-patch14.zip%3B+filename%3D%22openai-clip-vit-large-patch14.zip%22%3B&response-content-type=application%2Fzip&Expires=1720769167&Policy=eyJTdGF0ZW1lbnQiOlt7IkNvbmRpdGlvbiI6eyJEYXRlTGVzc1RoYW4iOnsiQVdTOkVwb2NoVGltZSI6MTcyMDc2OTE2N319LCJSZXNvdXJjZSI6Imh0dHBzOi8vY2RuLWxmcy11cy0xLmh1Z2dpbmdmYWNlLmNvL3JlcG9zLzhlLzIwLzhlMjBiZWMxMGY1YjViYTIyM2ZjMmVmMDdiZjc0NjkzYjJhYWI3OTc4YWRiNzE3MTdiYmZjMjJiZWRmYjBjNmYvNWI4ZWEyYmFkYjFiMTgzZTA5ZGJlMmViOWEwMWEwMTJjNWM3NDMwNTBhMzNhNzY2NDUzMDE2ZmQyYmYwYTBiMT9yZXNwb25zZS1jb250ZW50LWRpc3Bvc2l0aW9uPSomcmVzcG9uc2UtY29udGVudC10eXBlPSoifV19&Signature=bSAhJXb%7EuN3COb3I5p4b8uShFjtaFt45siRCk5WFnlJbPuga95Wlb1nZEUB2tXtupyZX5uRiij6CiNZ0bTyG0bYe9rmn52ptNmGv7hAr4h6dTJzC9%7EvSchL0CMe2lqoIcu8i99bykfaeFnOYhosXBM5msdVP5g2rRqlNZm-rkLZ0gzpfRr%7ErI8ojJ-prk%7E8uhTKoy0gXcIV%7EBNOAIZIWkJCPjdd7AMwXi7-9CAx8JcnLCxRVAfjPgg1s4znTGBDBtpASNcepZR9R4dqvJhPzJv3OIHd8xjA30uxb7LX%7EK-KPG-65sX84AstK-x6unvI0j2Of%7Eu2MqAwDjN3cQ2UORw__&Key-Pair-Id=K24J24Z295AEI9\n",
            "Resolving cdn-lfs-us-1.huggingface.co (cdn-lfs-us-1.huggingface.co)... 3.165.102.80, 3.165.102.95, 3.165.102.112, ...\n",
            "Connecting to cdn-lfs-us-1.huggingface.co (cdn-lfs-us-1.huggingface.co)|3.165.102.80|:443... connected.\n",
            "HTTP request sent, awaiting response... 200 OK\n",
            "Length: 1062214106 (1013M) [application/zip]\n",
            "Saving to: ‘openai-clip-vit-large-patch14.zip’\n",
            "\n",
            "openai-clip-vit-lar 100%[===================>]   1013M  23.3MB/s    in 64s     \n",
            "\n",
            "2024-07-09 07:27:12 (15.8 MB/s) - ‘openai-clip-vit-large-patch14.zip’ saved [1062214106/1062214106]\n",
            "\n",
            "Archive:  openai-clip-vit-large-patch14.zip\n",
            "replace /content/ControlCom-Image-Composition/checkpoints/openai-clip-vit-large-patch14/tokenizer_config.json? [y]es, [n]o, [A]ll, [N]one, [r]ename: A\n",
            "  inflating: /content/ControlCom-Image-Composition/checkpoints/openai-clip-vit-large-patch14/tokenizer_config.json  \n",
            "  inflating: /content/ControlCom-Image-Composition/checkpoints/openai-clip-vit-large-patch14/vocab.json  \n",
            "  inflating: /content/ControlCom-Image-Composition/checkpoints/openai-clip-vit-large-patch14/pytorch_model.bin  \n",
            "  inflating: /content/ControlCom-Image-Composition/checkpoints/openai-clip-vit-large-patch14/preprocessor_config.json  \n",
            "  inflating: /content/ControlCom-Image-Composition/checkpoints/openai-clip-vit-large-patch14/tokenizer.json  \n",
            "  inflating: /content/ControlCom-Image-Composition/checkpoints/openai-clip-vit-large-patch14/merges.txt  \n",
            "  inflating: /content/ControlCom-Image-Composition/checkpoints/openai-clip-vit-large-patch14/config.json  \n"
          ]
        }
      ],
      "source": [
        "# Step 1: Change to the desired directory\n",
        "%cd /content/ControlCom-Image-Composition/checkpoints\n",
        "\n",
        "# Step 2: Download the file using wget\n",
        "!wget https://huggingface.co/BCMIZB/Libcom_pretrained_models/resolve/main/openai-clip-vit-large-patch14.zip\n",
        "\n",
        "# Step 3: Unzip the file into the current directory\n",
        "!unzip openai-clip-vit-large-patch14.zip -d /content/ControlCom-Image-Composition/checkpoints/\n"
      ]
    },
    {
      "cell_type": "code",
      "execution_count": null,
      "metadata": {
        "colab": {
          "base_uri": "https://localhost:8080/"
        },
        "id": "oyjQRqo-cnu7",
        "outputId": "8b6fcd75-12cc-4b01-e667-8a4d443685aa"
      },
      "outputs": [
        {
          "output_type": "stream",
          "name": "stdout",
          "text": [
            "/content/ControlCom-Image-Composition/checkpoints\n",
            "--2024-07-09 07:28:55--  https://huggingface.co/BCMIZB/Libcom_pretrained_models/resolve/main/ControlCom_blend_harm.pth\n",
            "Resolving huggingface.co (huggingface.co)... 18.67.181.124, 18.67.181.126, 18.67.181.100, ...\n",
            "Connecting to huggingface.co (huggingface.co)|18.67.181.124|:443... connected.\n",
            "HTTP request sent, awaiting response... 302 Found\n",
            "Location: https://cdn-lfs-us-1.huggingface.co/repos/8e/20/8e20bec10f5b5ba223fc2ef07bf74693b2aab7978adb71717bbfc22bedfb0c6f/43738665192d7b725d964317ff43dab848986fb3464e069f937c42bd9d4fbec0?response-content-disposition=inline%3B+filename*%3DUTF-8%27%27ControlCom_blend_harm.pth%3B+filename%3D%22ControlCom_blend_harm.pth%22%3B&Expires=1720769336&Policy=eyJTdGF0ZW1lbnQiOlt7IkNvbmRpdGlvbiI6eyJEYXRlTGVzc1RoYW4iOnsiQVdTOkVwb2NoVGltZSI6MTcyMDc2OTMzNn19LCJSZXNvdXJjZSI6Imh0dHBzOi8vY2RuLWxmcy11cy0xLmh1Z2dpbmdmYWNlLmNvL3JlcG9zLzhlLzIwLzhlMjBiZWMxMGY1YjViYTIyM2ZjMmVmMDdiZjc0NjkzYjJhYWI3OTc4YWRiNzE3MTdiYmZjMjJiZWRmYjBjNmYvNDM3Mzg2NjUxOTJkN2I3MjVkOTY0MzE3ZmY0M2RhYjg0ODk4NmZiMzQ2NGUwNjlmOTM3YzQyYmQ5ZDRmYmVjMD9yZXNwb25zZS1jb250ZW50LWRpc3Bvc2l0aW9uPSoifV19&Signature=mbBM4YZz5p6OKQmoaH3GnIL44qfk5%7E08MEN2r49gBxhcwnxZkShpwKW4x1F7anqXPH3kcsjCDelO6Nk1bVvqkbd1jxxp7zhgv8ed-80v-1R7%7EW%7Eq%7ErBKxSIs8tk8RY93JmaoHjB%7EO1OKlLowAeLvBYO%7ECFYNdmwKq-SWL1yjEkwj6p4IribPIPp4FEME%7Ec0J34A3nAc6NKKTQ4jBZpVbbGwlzXofF6bZLD2uwTW4tQ0oqSW4LJZrWklELNnKWQMBzzG%7EgxPV8zU4n6vWUy7abW3WcWppiH-VqoxNM3Z2mVTNpTAHCtuMiCLgHF%7EGcMQtwWC3BvmFDvZK29aeGZahCQ__&Key-Pair-Id=K24J24Z295AEI9 [following]\n",
            "--2024-07-09 07:28:56--  https://cdn-lfs-us-1.huggingface.co/repos/8e/20/8e20bec10f5b5ba223fc2ef07bf74693b2aab7978adb71717bbfc22bedfb0c6f/43738665192d7b725d964317ff43dab848986fb3464e069f937c42bd9d4fbec0?response-content-disposition=inline%3B+filename*%3DUTF-8%27%27ControlCom_blend_harm.pth%3B+filename%3D%22ControlCom_blend_harm.pth%22%3B&Expires=1720769336&Policy=eyJTdGF0ZW1lbnQiOlt7IkNvbmRpdGlvbiI6eyJEYXRlTGVzc1RoYW4iOnsiQVdTOkVwb2NoVGltZSI6MTcyMDc2OTMzNn19LCJSZXNvdXJjZSI6Imh0dHBzOi8vY2RuLWxmcy11cy0xLmh1Z2dpbmdmYWNlLmNvL3JlcG9zLzhlLzIwLzhlMjBiZWMxMGY1YjViYTIyM2ZjMmVmMDdiZjc0NjkzYjJhYWI3OTc4YWRiNzE3MTdiYmZjMjJiZWRmYjBjNmYvNDM3Mzg2NjUxOTJkN2I3MjVkOTY0MzE3ZmY0M2RhYjg0ODk4NmZiMzQ2NGUwNjlmOTM3YzQyYmQ5ZDRmYmVjMD9yZXNwb25zZS1jb250ZW50LWRpc3Bvc2l0aW9uPSoifV19&Signature=mbBM4YZz5p6OKQmoaH3GnIL44qfk5%7E08MEN2r49gBxhcwnxZkShpwKW4x1F7anqXPH3kcsjCDelO6Nk1bVvqkbd1jxxp7zhgv8ed-80v-1R7%7EW%7Eq%7ErBKxSIs8tk8RY93JmaoHjB%7EO1OKlLowAeLvBYO%7ECFYNdmwKq-SWL1yjEkwj6p4IribPIPp4FEME%7Ec0J34A3nAc6NKKTQ4jBZpVbbGwlzXofF6bZLD2uwTW4tQ0oqSW4LJZrWklELNnKWQMBzzG%7EgxPV8zU4n6vWUy7abW3WcWppiH-VqoxNM3Z2mVTNpTAHCtuMiCLgHF%7EGcMQtwWC3BvmFDvZK29aeGZahCQ__&Key-Pair-Id=K24J24Z295AEI9\n",
            "Resolving cdn-lfs-us-1.huggingface.co (cdn-lfs-us-1.huggingface.co)... 3.165.102.25, 3.165.102.112, 3.165.102.95, ...\n",
            "Connecting to cdn-lfs-us-1.huggingface.co (cdn-lfs-us-1.huggingface.co)|3.165.102.25|:443... connected.\n",
            "HTTP request sent, awaiting response... 200 OK\n",
            "Length: 5465542022 (5.1G) [binary/octet-stream]\n",
            "Saving to: ‘ControlCom_blend_harm.pth’\n",
            "\n",
            "ControlCom_blend_ha 100%[===================>]   5.09G   193MB/s    in 19s     \n",
            "\n",
            "2024-07-09 07:29:15 (281 MB/s) - ‘ControlCom_blend_harm.pth’ saved [5465542022/5465542022]\n",
            "\n",
            "--2024-07-09 07:29:15--  https://huggingface.co/BCMIZB/Libcom_pretrained_models/resolve/main/ControlCom_view_comp.pth\n",
            "Resolving huggingface.co (huggingface.co)... 13.33.30.114, 13.33.30.23, 13.33.30.76, ...\n",
            "Connecting to huggingface.co (huggingface.co)|13.33.30.114|:443... connected.\n",
            "HTTP request sent, awaiting response... 302 Found\n",
            "Location: https://cdn-lfs-us-1.huggingface.co/repos/8e/20/8e20bec10f5b5ba223fc2ef07bf74693b2aab7978adb71717bbfc22bedfb0c6f/1a43064738ad15a6509d644058c5421a9fdf843180d3d649f2df9deeac1431da?response-content-disposition=inline%3B+filename*%3DUTF-8%27%27ControlCom_view_comp.pth%3B+filename%3D%22ControlCom_view_comp.pth%22%3B&Expires=1720769355&Policy=eyJTdGF0ZW1lbnQiOlt7IkNvbmRpdGlvbiI6eyJEYXRlTGVzc1RoYW4iOnsiQVdTOkVwb2NoVGltZSI6MTcyMDc2OTM1NX19LCJSZXNvdXJjZSI6Imh0dHBzOi8vY2RuLWxmcy11cy0xLmh1Z2dpbmdmYWNlLmNvL3JlcG9zLzhlLzIwLzhlMjBiZWMxMGY1YjViYTIyM2ZjMmVmMDdiZjc0NjkzYjJhYWI3OTc4YWRiNzE3MTdiYmZjMjJiZWRmYjBjNmYvMWE0MzA2NDczOGFkMTVhNjUwOWQ2NDQwNThjNTQyMWE5ZmRmODQzMTgwZDNkNjQ5ZjJkZjlkZWVhYzE0MzFkYT9yZXNwb25zZS1jb250ZW50LWRpc3Bvc2l0aW9uPSoifV19&Signature=QMHSQSBgz9ZuYdDX1uy%7E-BDfFvHHDhx6Hk%7ELJGTSlU4tti23YiiSxoZ5Z1E-rRkxcOmLfSMLarSkqJhy6mqR-83FD8rDQ1KzxTi5y1I%7EBPwqpYR5oZt7DraQO5g-pOpu1qgilYjLvNJ-7XqCudw-d2xtj--s8Lkkw-85WatSyQDwWosq49XLqpVqbAmpYh8Z%7EGDJ8eAildWqrPmNoCWN7hEPQmMkohO9lwELNBvDBLHNSKysoYypNMd8fe68xSFTdlDllPU%7Erl%7EbRJ9EQ3iEJFTepLtGEdF%7E%7EtU0WKGcq960Y1i3u7qxRj1WpYlvrDe7V7iIC-8ETsV%7Eedd6Yy5zhw__&Key-Pair-Id=K24J24Z295AEI9 [following]\n",
            "--2024-07-09 07:29:15--  https://cdn-lfs-us-1.huggingface.co/repos/8e/20/8e20bec10f5b5ba223fc2ef07bf74693b2aab7978adb71717bbfc22bedfb0c6f/1a43064738ad15a6509d644058c5421a9fdf843180d3d649f2df9deeac1431da?response-content-disposition=inline%3B+filename*%3DUTF-8%27%27ControlCom_view_comp.pth%3B+filename%3D%22ControlCom_view_comp.pth%22%3B&Expires=1720769355&Policy=eyJTdGF0ZW1lbnQiOlt7IkNvbmRpdGlvbiI6eyJEYXRlTGVzc1RoYW4iOnsiQVdTOkVwb2NoVGltZSI6MTcyMDc2OTM1NX19LCJSZXNvdXJjZSI6Imh0dHBzOi8vY2RuLWxmcy11cy0xLmh1Z2dpbmdmYWNlLmNvL3JlcG9zLzhlLzIwLzhlMjBiZWMxMGY1YjViYTIyM2ZjMmVmMDdiZjc0NjkzYjJhYWI3OTc4YWRiNzE3MTdiYmZjMjJiZWRmYjBjNmYvMWE0MzA2NDczOGFkMTVhNjUwOWQ2NDQwNThjNTQyMWE5ZmRmODQzMTgwZDNkNjQ5ZjJkZjlkZWVhYzE0MzFkYT9yZXNwb25zZS1jb250ZW50LWRpc3Bvc2l0aW9uPSoifV19&Signature=QMHSQSBgz9ZuYdDX1uy%7E-BDfFvHHDhx6Hk%7ELJGTSlU4tti23YiiSxoZ5Z1E-rRkxcOmLfSMLarSkqJhy6mqR-83FD8rDQ1KzxTi5y1I%7EBPwqpYR5oZt7DraQO5g-pOpu1qgilYjLvNJ-7XqCudw-d2xtj--s8Lkkw-85WatSyQDwWosq49XLqpVqbAmpYh8Z%7EGDJ8eAildWqrPmNoCWN7hEPQmMkohO9lwELNBvDBLHNSKysoYypNMd8fe68xSFTdlDllPU%7Erl%7EbRJ9EQ3iEJFTepLtGEdF%7E%7EtU0WKGcq960Y1i3u7qxRj1WpYlvrDe7V7iIC-8ETsV%7Eedd6Yy5zhw__&Key-Pair-Id=K24J24Z295AEI9\n",
            "Resolving cdn-lfs-us-1.huggingface.co (cdn-lfs-us-1.huggingface.co)... 3.165.102.25, 3.165.102.112, 3.165.102.95, ...\n",
            "Connecting to cdn-lfs-us-1.huggingface.co (cdn-lfs-us-1.huggingface.co)|3.165.102.25|:443... connected.\n",
            "HTTP request sent, awaiting response... 200 OK\n",
            "Length: 5465547655 (5.1G) [binary/octet-stream]\n",
            "Saving to: ‘ControlCom_view_comp.pth’\n",
            "\n",
            "ControlCom_view_com 100%[===================>]   5.09G   300MB/s    in 17s     \n",
            "\n",
            "2024-07-09 07:29:32 (302 MB/s) - ‘ControlCom_view_comp.pth’ saved [5465547655/5465547655]\n",
            "\n"
          ]
        }
      ],
      "source": [
        "%cd /content/ControlCom-Image-Composition/checkpoints\n",
        "!wget https://huggingface.co/BCMIZB/Libcom_pretrained_models/resolve/main/ControlCom_blend_harm.pth\n",
        "!wget https://huggingface.co/BCMIZB/Libcom_pretrained_models/resolve/main/ControlCom_view_comp.pth"
      ]
    },
    {
      "cell_type": "code",
      "execution_count": null,
      "metadata": {
        "colab": {
          "base_uri": "https://localhost:8080/"
        },
        "id": "-FrzqhsQcU-3",
        "outputId": "1efd65e5-af8e-4458-e446-c46656d5d032"
      },
      "outputs": [
        {
          "output_type": "stream",
          "name": "stdout",
          "text": [
            "/content/ControlCom-Image-Composition\n",
            "Requirement already satisfied: academictorrents==2.3.3 in /usr/local/lib/python3.10/dist-packages (from -r requirements.txt (line 1)) (2.3.3)\n",
            "Requirement already satisfied: albumentations==1.3.0 in /usr/local/lib/python3.10/dist-packages (from -r requirements.txt (line 2)) (1.3.0)\n",
            "Requirement already satisfied: einops==0.3.0 in /usr/local/lib/python3.10/dist-packages (from -r requirements.txt (line 3)) (0.3.0)\n",
            "Requirement already satisfied: imageio==2.9.0 in /usr/local/lib/python3.10/dist-packages (from -r requirements.txt (line 4)) (2.9.0)\n",
            "Requirement already satisfied: more_itertools==10.2.0 in /usr/local/lib/python3.10/dist-packages (from -r requirements.txt (line 5)) (10.2.0)\n",
            "Requirement already satisfied: natsort==8.4.0 in /usr/local/lib/python3.10/dist-packages (from -r requirements.txt (line 6)) (8.4.0)\n",
            "Requirement already satisfied: numpy==1.21.6 in /usr/local/lib/python3.10/dist-packages (from -r requirements.txt (line 7)) (1.21.6)\n",
            "Requirement already satisfied: omegaconf==2.3.0 in /usr/local/lib/python3.10/dist-packages (from -r requirements.txt (line 8)) (2.3.0)\n",
            "Requirement already satisfied: opencv_python in /usr/local/lib/python3.10/dist-packages (from -r requirements.txt (line 9)) (4.8.0.76)\n",
            "Requirement already satisfied: opencv_python_headless==4.7.0.72 in /usr/local/lib/python3.10/dist-packages (from -r requirements.txt (line 10)) (4.7.0.72)\n",
            "Requirement already satisfied: packaging==23.2 in /usr/local/lib/python3.10/dist-packages (from -r requirements.txt (line 11)) (23.2)\n",
            "Requirement already satisfied: Pillow==10.1.0 in /usr/local/lib/python3.10/dist-packages (from -r requirements.txt (line 12)) (10.1.0)\n",
            "Requirement already satisfied: pudb==2019.2 in /usr/local/lib/python3.10/dist-packages (from -r requirements.txt (line 13)) (2019.2)\n",
            "Requirement already satisfied: pytorch_lightning==1.9.0 in /usr/local/lib/python3.10/dist-packages (from -r requirements.txt (line 14)) (1.9.0)\n",
            "Requirement already satisfied: PyYAML==6.0.1 in /usr/local/lib/python3.10/dist-packages (from -r requirements.txt (line 15)) (6.0.1)\n",
            "Requirement already satisfied: Requests==2.31.0 in /usr/local/lib/python3.10/dist-packages (from -r requirements.txt (line 16)) (2.31.0)\n",
            "Requirement already satisfied: scipy==1.9.1 in /usr/local/lib/python3.10/dist-packages (from -r requirements.txt (line 17)) (1.9.1)\n",
            "Requirement already satisfied: setuptools==65.6.3 in /usr/local/lib/python3.10/dist-packages (from -r requirements.txt (line 18)) (65.6.3)\n",
            "Requirement already satisfied: scikit-image in /usr/local/lib/python3.10/dist-packages (from -r requirements.txt (line 19)) (0.19.3)\n",
            "Requirement already satisfied: streamlit==1.20.0 in /usr/local/lib/python3.10/dist-packages (from -r requirements.txt (line 20)) (1.20.0)\n",
            "Requirement already satisfied: torch in /usr/local/lib/python3.10/dist-packages (from -r requirements.txt (line 21)) (2.3.0+cu121)\n",
            "Requirement already satisfied: torchmetrics==1.2.0 in /usr/local/lib/python3.10/dist-packages (from -r requirements.txt (line 22)) (1.2.0)\n",
            "Requirement already satisfied: torchvision in /usr/local/lib/python3.10/dist-packages (from -r requirements.txt (line 23)) (0.18.0+cu121)\n",
            "Requirement already satisfied: tqdm==4.65.0 in /usr/local/lib/python3.10/dist-packages (from -r requirements.txt (line 24)) (4.65.0)\n",
            "Requirement already satisfied: transformers==4.27.4 in /usr/local/lib/python3.10/dist-packages (from -r requirements.txt (line 25)) (4.27.4)\n",
            "Requirement already satisfied: typing_extensions==4.10.0 in /usr/local/lib/python3.10/dist-packages (from -r requirements.txt (line 26)) (4.10.0)\n",
            "Requirement already satisfied: bencode.py==2.0.0 in /usr/local/lib/python3.10/dist-packages (from academictorrents==2.3.3->-r requirements.txt (line 1)) (2.0.0)\n",
            "Requirement already satisfied: bitstring==3.1.5 in /usr/local/lib/python3.10/dist-packages (from academictorrents==2.3.3->-r requirements.txt (line 1)) (3.1.5)\n",
            "Requirement already satisfied: PyPubSub==3.3.0 in /usr/local/lib/python3.10/dist-packages (from academictorrents==2.3.3->-r requirements.txt (line 1)) (3.3.0)\n",
            "Requirement already satisfied: future==0.16.0 in /usr/local/lib/python3.10/dist-packages (from academictorrents==2.3.3->-r requirements.txt (line 1)) (0.16.0)\n",
            "Requirement already satisfied: qudida>=0.0.4 in /usr/local/lib/python3.10/dist-packages (from albumentations==1.3.0->-r requirements.txt (line 2)) (0.0.4)\n",
            "Requirement already satisfied: antlr4-python3-runtime==4.9.* in /usr/local/lib/python3.10/dist-packages (from omegaconf==2.3.0->-r requirements.txt (line 8)) (4.9.3)\n",
            "Requirement already satisfied: urwid>=1.1.1 in /usr/local/lib/python3.10/dist-packages (from pudb==2019.2->-r requirements.txt (line 13)) (2.6.15)\n",
            "Requirement already satisfied: pygments>=1.0 in /usr/local/lib/python3.10/dist-packages (from pudb==2019.2->-r requirements.txt (line 13)) (2.16.1)\n",
            "Requirement already satisfied: fsspec[http]>2021.06.0 in /usr/local/lib/python3.10/dist-packages (from pytorch_lightning==1.9.0->-r requirements.txt (line 14)) (2023.6.0)\n",
            "Requirement already satisfied: lightning-utilities>=0.4.2 in /usr/local/lib/python3.10/dist-packages (from pytorch_lightning==1.9.0->-r requirements.txt (line 14)) (0.11.3.post0)\n",
            "Requirement already satisfied: charset-normalizer<4,>=2 in /usr/local/lib/python3.10/dist-packages (from Requests==2.31.0->-r requirements.txt (line 16)) (3.3.2)\n",
            "Requirement already satisfied: idna<4,>=2.5 in /usr/local/lib/python3.10/dist-packages (from Requests==2.31.0->-r requirements.txt (line 16)) (3.7)\n",
            "Requirement already satisfied: urllib3<3,>=1.21.1 in /usr/local/lib/python3.10/dist-packages (from Requests==2.31.0->-r requirements.txt (line 16)) (2.0.7)\n",
            "Requirement already satisfied: certifi>=2017.4.17 in /usr/local/lib/python3.10/dist-packages (from Requests==2.31.0->-r requirements.txt (line 16)) (2024.6.2)\n",
            "Requirement already satisfied: altair<5,>=3.2.0 in /usr/local/lib/python3.10/dist-packages (from streamlit==1.20.0->-r requirements.txt (line 20)) (4.2.2)\n",
            "Requirement already satisfied: blinker>=1.0.0 in /usr/lib/python3/dist-packages (from streamlit==1.20.0->-r requirements.txt (line 20)) (1.4)\n",
            "Requirement already satisfied: cachetools>=4.0 in /usr/local/lib/python3.10/dist-packages (from streamlit==1.20.0->-r requirements.txt (line 20)) (5.3.3)\n",
            "Requirement already satisfied: click>=7.0 in /usr/local/lib/python3.10/dist-packages (from streamlit==1.20.0->-r requirements.txt (line 20)) (8.1.7)\n",
            "Requirement already satisfied: importlib-metadata>=1.4 in /usr/local/lib/python3.10/dist-packages (from streamlit==1.20.0->-r requirements.txt (line 20)) (8.0.0)\n",
            "Requirement already satisfied: pandas<2,>=0.25 in /usr/local/lib/python3.10/dist-packages (from streamlit==1.20.0->-r requirements.txt (line 20)) (1.5.3)\n",
            "Requirement already satisfied: protobuf<4,>=3.12 in /usr/local/lib/python3.10/dist-packages (from streamlit==1.20.0->-r requirements.txt (line 20)) (3.20.3)\n",
            "Requirement already satisfied: pyarrow>=4.0 in /usr/local/lib/python3.10/dist-packages (from streamlit==1.20.0->-r requirements.txt (line 20)) (14.0.2)\n",
            "Requirement already satisfied: pympler>=0.9 in /usr/local/lib/python3.10/dist-packages (from streamlit==1.20.0->-r requirements.txt (line 20)) (1.1)\n",
            "Requirement already satisfied: python-dateutil in /usr/local/lib/python3.10/dist-packages (from streamlit==1.20.0->-r requirements.txt (line 20)) (2.8.2)\n",
            "Requirement already satisfied: rich>=10.11.0 in /usr/local/lib/python3.10/dist-packages (from streamlit==1.20.0->-r requirements.txt (line 20)) (13.7.1)\n",
            "Requirement already satisfied: semver in /usr/local/lib/python3.10/dist-packages (from streamlit==1.20.0->-r requirements.txt (line 20)) (3.0.2)\n",
            "Requirement already satisfied: toml in /usr/local/lib/python3.10/dist-packages (from streamlit==1.20.0->-r requirements.txt (line 20)) (0.10.2)\n",
            "Requirement already satisfied: tzlocal>=1.1 in /usr/local/lib/python3.10/dist-packages (from streamlit==1.20.0->-r requirements.txt (line 20)) (5.2)\n",
            "Requirement already satisfied: validators>=0.2 in /usr/local/lib/python3.10/dist-packages (from streamlit==1.20.0->-r requirements.txt (line 20)) (0.31.0)\n",
            "Requirement already satisfied: gitpython!=3.1.19 in /usr/local/lib/python3.10/dist-packages (from streamlit==1.20.0->-r requirements.txt (line 20)) (3.1.43)\n",
            "Requirement already satisfied: pydeck>=0.1.dev5 in /usr/local/lib/python3.10/dist-packages (from streamlit==1.20.0->-r requirements.txt (line 20)) (0.9.1)\n",
            "Requirement already satisfied: tornado>=6.0.3 in /usr/local/lib/python3.10/dist-packages (from streamlit==1.20.0->-r requirements.txt (line 20)) (6.3.3)\n",
            "Requirement already satisfied: watchdog in /usr/local/lib/python3.10/dist-packages (from streamlit==1.20.0->-r requirements.txt (line 20)) (4.0.1)\n",
            "Requirement already satisfied: filelock in /usr/local/lib/python3.10/dist-packages (from transformers==4.27.4->-r requirements.txt (line 25)) (3.15.4)\n",
            "Requirement already satisfied: huggingface-hub<1.0,>=0.11.0 in /usr/local/lib/python3.10/dist-packages (from transformers==4.27.4->-r requirements.txt (line 25)) (0.23.4)\n",
            "Requirement already satisfied: regex!=2019.12.17 in /usr/local/lib/python3.10/dist-packages (from transformers==4.27.4->-r requirements.txt (line 25)) (2024.5.15)\n",
            "Requirement already satisfied: tokenizers!=0.11.3,<0.14,>=0.11.1 in /usr/local/lib/python3.10/dist-packages (from transformers==4.27.4->-r requirements.txt (line 25)) (0.13.3)\n",
            "Requirement already satisfied: networkx>=2.2 in /usr/local/lib/python3.10/dist-packages (from scikit-image->-r requirements.txt (line 19)) (3.3)\n",
            "Requirement already satisfied: tifffile>=2019.7.26 in /usr/local/lib/python3.10/dist-packages (from scikit-image->-r requirements.txt (line 19)) (2024.6.18)\n",
            "Requirement already satisfied: PyWavelets>=1.1.1 in /usr/local/lib/python3.10/dist-packages (from scikit-image->-r requirements.txt (line 19)) (1.4.1)\n",
            "Requirement already satisfied: sympy in /usr/local/lib/python3.10/dist-packages (from torch->-r requirements.txt (line 21)) (1.12.1)\n",
            "Requirement already satisfied: jinja2 in /usr/local/lib/python3.10/dist-packages (from torch->-r requirements.txt (line 21)) (3.1.4)\n",
            "Requirement already satisfied: nvidia-cuda-nvrtc-cu12==12.1.105 in /usr/local/lib/python3.10/dist-packages (from torch->-r requirements.txt (line 21)) (12.1.105)\n",
            "Requirement already satisfied: nvidia-cuda-runtime-cu12==12.1.105 in /usr/local/lib/python3.10/dist-packages (from torch->-r requirements.txt (line 21)) (12.1.105)\n",
            "Requirement already satisfied: nvidia-cuda-cupti-cu12==12.1.105 in /usr/local/lib/python3.10/dist-packages (from torch->-r requirements.txt (line 21)) (12.1.105)\n",
            "Requirement already satisfied: nvidia-cudnn-cu12==8.9.2.26 in /usr/local/lib/python3.10/dist-packages (from torch->-r requirements.txt (line 21)) (8.9.2.26)\n",
            "Requirement already satisfied: nvidia-cublas-cu12==12.1.3.1 in /usr/local/lib/python3.10/dist-packages (from torch->-r requirements.txt (line 21)) (12.1.3.1)\n",
            "Requirement already satisfied: nvidia-cufft-cu12==11.0.2.54 in /usr/local/lib/python3.10/dist-packages (from torch->-r requirements.txt (line 21)) (11.0.2.54)\n",
            "Requirement already satisfied: nvidia-curand-cu12==10.3.2.106 in /usr/local/lib/python3.10/dist-packages (from torch->-r requirements.txt (line 21)) (10.3.2.106)\n",
            "Requirement already satisfied: nvidia-cusolver-cu12==11.4.5.107 in /usr/local/lib/python3.10/dist-packages (from torch->-r requirements.txt (line 21)) (11.4.5.107)\n",
            "Requirement already satisfied: nvidia-cusparse-cu12==12.1.0.106 in /usr/local/lib/python3.10/dist-packages (from torch->-r requirements.txt (line 21)) (12.1.0.106)\n",
            "Requirement already satisfied: nvidia-nccl-cu12==2.20.5 in /usr/local/lib/python3.10/dist-packages (from torch->-r requirements.txt (line 21)) (2.20.5)\n",
            "Requirement already satisfied: nvidia-nvtx-cu12==12.1.105 in /usr/local/lib/python3.10/dist-packages (from torch->-r requirements.txt (line 21)) (12.1.105)\n",
            "Requirement already satisfied: triton==2.3.0 in /usr/local/lib/python3.10/dist-packages (from torch->-r requirements.txt (line 21)) (2.3.0)\n",
            "Requirement already satisfied: nvidia-nvjitlink-cu12 in /usr/local/lib/python3.10/dist-packages (from nvidia-cusolver-cu12==11.4.5.107->torch->-r requirements.txt (line 21)) (12.5.82)\n",
            "Requirement already satisfied: entrypoints in /usr/local/lib/python3.10/dist-packages (from altair<5,>=3.2.0->streamlit==1.20.0->-r requirements.txt (line 20)) (0.4)\n",
            "Requirement already satisfied: jsonschema>=3.0 in /usr/local/lib/python3.10/dist-packages (from altair<5,>=3.2.0->streamlit==1.20.0->-r requirements.txt (line 20)) (4.19.2)\n",
            "Requirement already satisfied: toolz in /usr/local/lib/python3.10/dist-packages (from altair<5,>=3.2.0->streamlit==1.20.0->-r requirements.txt (line 20)) (0.12.1)\n",
            "Requirement already satisfied: aiohttp!=4.0.0a0,!=4.0.0a1 in /usr/local/lib/python3.10/dist-packages (from fsspec[http]>2021.06.0->pytorch_lightning==1.9.0->-r requirements.txt (line 14)) (3.9.5)\n",
            "Requirement already satisfied: gitdb<5,>=4.0.1 in /usr/local/lib/python3.10/dist-packages (from gitpython!=3.1.19->streamlit==1.20.0->-r requirements.txt (line 20)) (4.0.11)\n",
            "Requirement already satisfied: zipp>=0.5 in /usr/local/lib/python3.10/dist-packages (from importlib-metadata>=1.4->streamlit==1.20.0->-r requirements.txt (line 20)) (3.19.2)\n",
            "Requirement already satisfied: pytz>=2020.1 in /usr/local/lib/python3.10/dist-packages (from pandas<2,>=0.25->streamlit==1.20.0->-r requirements.txt (line 20)) (2023.4)\n",
            "Requirement already satisfied: MarkupSafe>=2.0 in /usr/local/lib/python3.10/dist-packages (from jinja2->torch->-r requirements.txt (line 21)) (2.1.5)\n",
            "Requirement already satisfied: six>=1.5 in /usr/local/lib/python3.10/dist-packages (from python-dateutil->streamlit==1.20.0->-r requirements.txt (line 20)) (1.16.0)\n",
            "Requirement already satisfied: scikit-learn>=0.19.1 in /usr/local/lib/python3.10/dist-packages (from qudida>=0.0.4->albumentations==1.3.0->-r requirements.txt (line 2)) (1.2.2)\n",
            "Requirement already satisfied: markdown-it-py>=2.2.0 in /usr/local/lib/python3.10/dist-packages (from rich>=10.11.0->streamlit==1.20.0->-r requirements.txt (line 20)) (3.0.0)\n",
            "Requirement already satisfied: wcwidth in /usr/local/lib/python3.10/dist-packages (from urwid>=1.1.1->pudb==2019.2->-r requirements.txt (line 13)) (0.2.13)\n",
            "Requirement already satisfied: mpmath<1.4.0,>=1.1.0 in /usr/local/lib/python3.10/dist-packages (from sympy->torch->-r requirements.txt (line 21)) (1.3.0)\n",
            "Requirement already satisfied: aiosignal>=1.1.2 in /usr/local/lib/python3.10/dist-packages (from aiohttp!=4.0.0a0,!=4.0.0a1->fsspec[http]>2021.06.0->pytorch_lightning==1.9.0->-r requirements.txt (line 14)) (1.3.1)\n",
            "Requirement already satisfied: attrs>=17.3.0 in /usr/local/lib/python3.10/dist-packages (from aiohttp!=4.0.0a0,!=4.0.0a1->fsspec[http]>2021.06.0->pytorch_lightning==1.9.0->-r requirements.txt (line 14)) (23.2.0)\n",
            "Requirement already satisfied: frozenlist>=1.1.1 in /usr/local/lib/python3.10/dist-packages (from aiohttp!=4.0.0a0,!=4.0.0a1->fsspec[http]>2021.06.0->pytorch_lightning==1.9.0->-r requirements.txt (line 14)) (1.4.1)\n",
            "Requirement already satisfied: multidict<7.0,>=4.5 in /usr/local/lib/python3.10/dist-packages (from aiohttp!=4.0.0a0,!=4.0.0a1->fsspec[http]>2021.06.0->pytorch_lightning==1.9.0->-r requirements.txt (line 14)) (6.0.5)\n",
            "Requirement already satisfied: yarl<2.0,>=1.0 in /usr/local/lib/python3.10/dist-packages (from aiohttp!=4.0.0a0,!=4.0.0a1->fsspec[http]>2021.06.0->pytorch_lightning==1.9.0->-r requirements.txt (line 14)) (1.9.4)\n",
            "Requirement already satisfied: async-timeout<5.0,>=4.0 in /usr/local/lib/python3.10/dist-packages (from aiohttp!=4.0.0a0,!=4.0.0a1->fsspec[http]>2021.06.0->pytorch_lightning==1.9.0->-r requirements.txt (line 14)) (4.0.3)\n",
            "Requirement already satisfied: smmap<6,>=3.0.1 in /usr/local/lib/python3.10/dist-packages (from gitdb<5,>=4.0.1->gitpython!=3.1.19->streamlit==1.20.0->-r requirements.txt (line 20)) (5.0.1)\n",
            "Requirement already satisfied: jsonschema-specifications>=2023.03.6 in /usr/local/lib/python3.10/dist-packages (from jsonschema>=3.0->altair<5,>=3.2.0->streamlit==1.20.0->-r requirements.txt (line 20)) (2023.12.1)\n",
            "Requirement already satisfied: referencing>=0.28.4 in /usr/local/lib/python3.10/dist-packages (from jsonschema>=3.0->altair<5,>=3.2.0->streamlit==1.20.0->-r requirements.txt (line 20)) (0.35.1)\n",
            "Requirement already satisfied: rpds-py>=0.7.1 in /usr/local/lib/python3.10/dist-packages (from jsonschema>=3.0->altair<5,>=3.2.0->streamlit==1.20.0->-r requirements.txt (line 20)) (0.18.1)\n",
            "Requirement already satisfied: mdurl~=0.1 in /usr/local/lib/python3.10/dist-packages (from markdown-it-py>=2.2.0->rich>=10.11.0->streamlit==1.20.0->-r requirements.txt (line 20)) (0.1.2)\n",
            "Requirement already satisfied: joblib>=1.1.1 in /usr/local/lib/python3.10/dist-packages (from scikit-learn>=0.19.1->qudida>=0.0.4->albumentations==1.3.0->-r requirements.txt (line 2)) (1.4.2)\n",
            "Requirement already satisfied: threadpoolctl>=2.0.0 in /usr/local/lib/python3.10/dist-packages (from scikit-learn>=0.19.1->qudida>=0.0.4->albumentations==1.3.0->-r requirements.txt (line 2)) (3.5.0)\n",
            "/content/ControlCom-Image-Composition/src/taming-transformers\n",
            "Obtaining file:///content/ControlCom-Image-Composition/src/taming-transformers\n",
            "  Preparing metadata (setup.py) ... \u001b[?25l\u001b[?25hdone\n",
            "Requirement already satisfied: torch in /usr/local/lib/python3.10/dist-packages (from taming-transformers==0.0.1) (2.3.0+cu121)\n",
            "Requirement already satisfied: numpy in /usr/local/lib/python3.10/dist-packages (from taming-transformers==0.0.1) (1.21.6)\n",
            "Requirement already satisfied: tqdm in /usr/local/lib/python3.10/dist-packages (from taming-transformers==0.0.1) (4.65.0)\n",
            "Requirement already satisfied: filelock in /usr/local/lib/python3.10/dist-packages (from torch->taming-transformers==0.0.1) (3.15.4)\n",
            "Requirement already satisfied: typing-extensions>=4.8.0 in /usr/local/lib/python3.10/dist-packages (from torch->taming-transformers==0.0.1) (4.10.0)\n",
            "Requirement already satisfied: sympy in /usr/local/lib/python3.10/dist-packages (from torch->taming-transformers==0.0.1) (1.12.1)\n",
            "Requirement already satisfied: networkx in /usr/local/lib/python3.10/dist-packages (from torch->taming-transformers==0.0.1) (3.3)\n",
            "Requirement already satisfied: jinja2 in /usr/local/lib/python3.10/dist-packages (from torch->taming-transformers==0.0.1) (3.1.4)\n",
            "Requirement already satisfied: fsspec in /usr/local/lib/python3.10/dist-packages (from torch->taming-transformers==0.0.1) (2023.6.0)\n",
            "Requirement already satisfied: nvidia-cuda-nvrtc-cu12==12.1.105 in /usr/local/lib/python3.10/dist-packages (from torch->taming-transformers==0.0.1) (12.1.105)\n",
            "Requirement already satisfied: nvidia-cuda-runtime-cu12==12.1.105 in /usr/local/lib/python3.10/dist-packages (from torch->taming-transformers==0.0.1) (12.1.105)\n",
            "Requirement already satisfied: nvidia-cuda-cupti-cu12==12.1.105 in /usr/local/lib/python3.10/dist-packages (from torch->taming-transformers==0.0.1) (12.1.105)\n",
            "Requirement already satisfied: nvidia-cudnn-cu12==8.9.2.26 in /usr/local/lib/python3.10/dist-packages (from torch->taming-transformers==0.0.1) (8.9.2.26)\n",
            "Requirement already satisfied: nvidia-cublas-cu12==12.1.3.1 in /usr/local/lib/python3.10/dist-packages (from torch->taming-transformers==0.0.1) (12.1.3.1)\n",
            "Requirement already satisfied: nvidia-cufft-cu12==11.0.2.54 in /usr/local/lib/python3.10/dist-packages (from torch->taming-transformers==0.0.1) (11.0.2.54)\n",
            "Requirement already satisfied: nvidia-curand-cu12==10.3.2.106 in /usr/local/lib/python3.10/dist-packages (from torch->taming-transformers==0.0.1) (10.3.2.106)\n",
            "Requirement already satisfied: nvidia-cusolver-cu12==11.4.5.107 in /usr/local/lib/python3.10/dist-packages (from torch->taming-transformers==0.0.1) (11.4.5.107)\n",
            "Requirement already satisfied: nvidia-cusparse-cu12==12.1.0.106 in /usr/local/lib/python3.10/dist-packages (from torch->taming-transformers==0.0.1) (12.1.0.106)\n",
            "Requirement already satisfied: nvidia-nccl-cu12==2.20.5 in /usr/local/lib/python3.10/dist-packages (from torch->taming-transformers==0.0.1) (2.20.5)\n",
            "Requirement already satisfied: nvidia-nvtx-cu12==12.1.105 in /usr/local/lib/python3.10/dist-packages (from torch->taming-transformers==0.0.1) (12.1.105)\n",
            "Requirement already satisfied: triton==2.3.0 in /usr/local/lib/python3.10/dist-packages (from torch->taming-transformers==0.0.1) (2.3.0)\n",
            "Requirement already satisfied: nvidia-nvjitlink-cu12 in /usr/local/lib/python3.10/dist-packages (from nvidia-cusolver-cu12==11.4.5.107->torch->taming-transformers==0.0.1) (12.5.82)\n",
            "Requirement already satisfied: MarkupSafe>=2.0 in /usr/local/lib/python3.10/dist-packages (from jinja2->torch->taming-transformers==0.0.1) (2.1.5)\n",
            "Requirement already satisfied: mpmath<1.4.0,>=1.1.0 in /usr/local/lib/python3.10/dist-packages (from sympy->torch->taming-transformers==0.0.1) (1.3.0)\n",
            "Installing collected packages: taming-transformers\n",
            "  Running setup.py develop for taming-transformers\n",
            "Successfully installed taming-transformers-0.0.1\n"
          ]
        }
      ],
      "source": [
        "# opencv_python==4.1.2.30 --> opencv_python\n",
        "# skimage==0.0 --> scikit-image\n",
        "# torch==1.10.1 --> torch\n",
        "# torchvision==0.11.2 --> torchvision\n",
        "\n",
        "%cd /content/ControlCom-Image-Composition/\n",
        "!pip install -r requirements.txt\n",
        "%cd /content/ControlCom-Image-Composition/src/taming-transformers\n",
        "!pip install -e ."
      ]
    },
    {
      "cell_type": "code",
      "source": [
        "%cd /content/ControlCom-Image-Composition/"
      ],
      "metadata": {
        "colab": {
          "base_uri": "https://localhost:8080/"
        },
        "id": "K5YPe4GiWmMB",
        "outputId": "ed106d09-e21d-4bc8-be8b-1846e38120da"
      },
      "execution_count": null,
      "outputs": [
        {
          "output_type": "stream",
          "name": "stdout",
          "text": [
            "/content/ControlCom-Image-Composition\n"
          ]
        }
      ]
    },
    {
      "cell_type": "code",
      "execution_count": null,
      "metadata": {
        "colab": {
          "base_uri": "https://localhost:8080/"
        },
        "id": "St0bNPOFeUCc",
        "outputId": "51d2881e-7704-49ac-a694-dcb0795ca844"
      },
      "outputs": [
        {
          "output_type": "stream",
          "name": "stdout",
          "text": [
            "load checkpoint ./checkpoints/ControlCom_blend_harm.pth\n",
            "Using DDIM samplers with 50 sampling steps\n",
            "find 4 pairs of test samples\n",
            "<PIL.PngImagePlugin.PngImageFile image mode=L size=512x512 at 0x7CFDD5B480A0>\n",
            "{'im': None, '_mode': 'L', '_size': (512, 512), 'palette': None, 'info': {}, 'readonly': 1, 'pyaccess': None, '_exif': None, '_min_frame': 0, 'custom_mimetype': None, 'tile': [('zip', (0, 0, 512, 512), 41, 'L')], 'decoderconfig': (), 'decodermaxblock': 65536, 'fp': <_io.BufferedReader name='examples_512/mask_bbox/between_two_ferns_tea_512.png'>, 'filename': 'examples_512/mask_bbox/between_two_ferns_tea_512.png', '_exclusive_fp': True, '_fp': <_io.BufferedReader name='examples_512/mask_bbox/between_two_ferns_tea_512.png'>, '_PngImageFile__frame': 0, 'private_chunks': [], 'png': <PIL.PngImagePlugin.PngStream object at 0x7cfdd5b48340>, '_text': None, 'n_frames': 1, 'default_image': False, '_PngImageFile__prepare_idat': 597, 'is_animated': False}\n",
            "inference time: 16.3s\n",
            "save result to results_512/between_two_ferns_tea_512_harmonization.jpg\n",
            "save grid_result to results_512/between_two_ferns_tea_512_harmonization_grid.jpg\n",
            "<PIL.PngImagePlugin.PngImageFile image mode=L size=512x512 at 0x7CFDD5AD5C60>\n",
            "{'im': None, '_mode': 'L', '_size': (512, 512), 'palette': None, 'info': {}, 'readonly': 1, 'pyaccess': None, '_exif': None, '_min_frame': 0, 'custom_mimetype': None, 'tile': [('zip', (0, 0, 512, 512), 41, 'L')], 'decoderconfig': (), 'decodermaxblock': 65536, 'fp': <_io.BufferedReader name='examples_512/mask_bbox/between_two_ferns_cocacola_512.png'>, 'filename': 'examples_512/mask_bbox/between_two_ferns_cocacola_512.png', '_exclusive_fp': True, '_fp': <_io.BufferedReader name='examples_512/mask_bbox/between_two_ferns_cocacola_512.png'>, '_PngImageFile__frame': 0, 'private_chunks': [], 'png': <PIL.PngImagePlugin.PngStream object at 0x7cfdd5ad4a90>, '_text': None, 'n_frames': 1, 'default_image': False, '_PngImageFile__prepare_idat': 597, 'is_animated': False}\n",
            "inference time: 15.4s\n",
            "save result to results_512/between_two_ferns_cocacola_512_harmonization.jpg\n",
            "save grid_result to results_512/between_two_ferns_cocacola_512_harmonization_grid.jpg\n",
            "<PIL.PngImagePlugin.PngImageFile image mode=L size=512x512 at 0x7CFDD5AD7220>\n",
            "{'im': None, '_mode': 'L', '_size': (512, 512), 'palette': None, 'info': {}, 'readonly': 1, 'pyaccess': None, '_exif': None, '_min_frame': 0, 'custom_mimetype': None, 'tile': [('zip', (0, 0, 512, 512), 41, 'L')], 'decoderconfig': (), 'decodermaxblock': 65536, 'fp': <_io.BufferedReader name='examples_512/mask_bbox/LISA_Teacher_512.png'>, 'filename': 'examples_512/mask_bbox/LISA_Teacher_512.png', '_exclusive_fp': True, '_fp': <_io.BufferedReader name='examples_512/mask_bbox/LISA_Teacher_512.png'>, '_PngImageFile__frame': 0, 'private_chunks': [], 'png': <PIL.PngImagePlugin.PngStream object at 0x7cfdd5ad6cb0>, '_text': None, 'n_frames': 1, 'default_image': False, '_PngImageFile__prepare_idat': 875, 'is_animated': False}\n",
            "inference time: 15.6s\n",
            "save result to results_512/LISA_Teacher_512_harmonization.jpg\n",
            "save grid_result to results_512/LISA_Teacher_512_harmonization_grid.jpg\n",
            "<PIL.PngImagePlugin.PngImageFile image mode=L size=512x512 at 0x7CFDD5AD5C60>\n",
            "{'im': None, '_mode': 'L', '_size': (512, 512), 'palette': None, 'info': {}, 'readonly': 1, 'pyaccess': None, '_exif': None, '_min_frame': 0, 'custom_mimetype': None, 'tile': [('zip', (0, 0, 512, 512), 41, 'L')], 'decoderconfig': (), 'decodermaxblock': 65536, 'fp': <_io.BufferedReader name='examples_512/mask_bbox/kitchen_cola_512.png'>, 'filename': 'examples_512/mask_bbox/kitchen_cola_512.png', '_exclusive_fp': True, '_fp': <_io.BufferedReader name='examples_512/mask_bbox/kitchen_cola_512.png'>, '_PngImageFile__frame': 0, 'private_chunks': [], 'png': <PIL.PngImagePlugin.PngStream object at 0x7cfdd5ad4a90>, '_text': None, 'n_frames': 1, 'default_image': False, '_PngImageFile__prepare_idat': 555, 'is_animated': False}\n",
            "inference time: 15.7s\n",
            "save result to results_512/kitchen_cola_512_harmonization.jpg\n",
            "save grid_result to results_512/kitchen_cola_512_harmonization_grid.jpg\n"
          ]
        }
      ],
      "source": [
        "!python scripts/inference.py --task harmonization --outdir results_512 --testdir examples_512 --num_samples 1 --sample_steps 50 --gpu 0\n"
      ]
    },
    {
      "cell_type": "code",
      "source": [
        "%rm -r \"/content/ControlCom-Image-Composition/results_512\""
      ],
      "metadata": {
        "id": "MQHqKR1DhUMg"
      },
      "execution_count": null,
      "outputs": []
    },
    {
      "cell_type": "code",
      "source": [
        "!python scripts/inference.py --task harmonization --outdir results --testdir examples --num_samples 1 --sample_steps 50 --gpu 0"
      ],
      "metadata": {
        "colab": {
          "base_uri": "https://localhost:8080/"
        },
        "id": "_Hoym3dvbqxI",
        "outputId": "fd8d8531-7f76-4f29-8b56-9a36438340fe"
      },
      "execution_count": null,
      "outputs": [
        {
          "output_type": "stream",
          "name": "stdout",
          "text": [
            "load checkpoint ./checkpoints/ControlCom_blend_harm.pth\n",
            "Using DDIM samplers with 50 sampling steps\n",
            "find 3 pairs of test samples\n",
            "<PIL.PngImagePlugin.PngImageFile image mode=L size=512x512 at 0x7977961E6F50>\n",
            "{'im': None, '_mode': 'L', '_size': (512, 512), 'palette': None, 'info': {}, 'readonly': 1, 'pyaccess': None, '_exif': None, '_min_frame': 0, 'custom_mimetype': None, 'tile': [('zip', (0, 0, 512, 512), 41, 'L')], 'decoderconfig': (), 'decodermaxblock': 65536, 'fp': <_io.BufferedReader name='examples/mask_bbox/000000330273.png'>, 'filename': 'examples/mask_bbox/000000330273.png', '_exclusive_fp': True, '_fp': <_io.BufferedReader name='examples/mask_bbox/000000330273.png'>, '_PngImageFile__frame': 0, 'private_chunks': [], 'png': <PIL.PngImagePlugin.PngStream object at 0x7977961e7010>, '_text': None, 'n_frames': 1, 'default_image': False, '_PngImageFile__prepare_idat': 1860, 'is_animated': False}\n",
            "inference time: 16.5s\n",
            "save result to results/000000330273_harmonization.jpg\n",
            "save grid_result to results/000000330273_harmonization_grid.jpg\n",
            "<PIL.PngImagePlugin.PngImageFile image mode=L size=512x512 at 0x797795BF1150>\n",
            "{'im': None, '_mode': 'L', '_size': (512, 512), 'palette': None, 'info': {}, 'readonly': 1, 'pyaccess': None, '_exif': None, '_min_frame': 0, 'custom_mimetype': None, 'tile': [('zip', (0, 0, 512, 512), 41, 'L')], 'decoderconfig': (), 'decodermaxblock': 65536, 'fp': <_io.BufferedReader name='examples/mask_bbox/000001219153.png'>, 'filename': 'examples/mask_bbox/000001219153.png', '_exclusive_fp': True, '_fp': <_io.BufferedReader name='examples/mask_bbox/000001219153.png'>, '_PngImageFile__frame': 0, 'private_chunks': [], 'png': <PIL.PngImagePlugin.PngStream object at 0x797795bf0cd0>, '_text': None, 'n_frames': 1, 'default_image': False, '_PngImageFile__prepare_idat': 2213, 'is_animated': False}\n",
            "inference time: 15.4s\n",
            "save result to results/000001219153_harmonization.jpg\n",
            "save grid_result to results/000001219153_harmonization_grid.jpg\n",
            "<PIL.PngImagePlugin.PngImageFile image mode=L size=512x512 at 0x797795BF1150>\n",
            "{'im': None, '_mode': 'L', '_size': (512, 512), 'palette': None, 'info': {}, 'readonly': 1, 'pyaccess': None, '_exif': None, '_min_frame': 0, 'custom_mimetype': None, 'tile': [('zip', (0, 0, 512, 512), 41, 'L')], 'decoderconfig': (), 'decodermaxblock': 65536, 'fp': <_io.BufferedReader name='examples/mask_bbox/000000049931.png'>, 'filename': 'examples/mask_bbox/000000049931.png', '_exclusive_fp': True, '_fp': <_io.BufferedReader name='examples/mask_bbox/000000049931.png'>, '_PngImageFile__frame': 0, 'private_chunks': [], 'png': <PIL.PngImagePlugin.PngStream object at 0x797795bf16c0>, '_text': None, 'n_frames': 1, 'default_image': False, '_PngImageFile__prepare_idat': 2081, 'is_animated': False}\n",
            "inference time: 15.3s\n",
            "save result to results/000000049931_harmonization.jpg\n",
            "save grid_result to results/000000049931_harmonization_grid.jpg\n"
          ]
        }
      ]
    }
  ],
  "metadata": {
    "colab": {
      "provenance": [],
      "gpuType": "L4"
    },
    "kernelspec": {
      "display_name": "Python 3",
      "name": "python3"
    },
    "accelerator": "GPU"
  },
  "nbformat": 4,
  "nbformat_minor": 0
}